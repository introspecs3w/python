{
 "cells": [
  {
   "cell_type": "code",
   "execution_count": null,
   "metadata": {},
   "outputs": [],
   "source": [
    "print (\"hello world\")"
   ]
  },
  {
   "cell_type": "code",
   "execution_count": null,
   "metadata": {},
   "outputs": [],
   "source": [
    "print (\"hello world\")\n"
   ]
  },
  {
   "cell_type": "code",
   "execution_count": null,
   "metadata": {},
   "outputs": [],
   "source": [
    "print (\"hello world\")"
   ]
  },
  {
   "cell_type": "code",
   "execution_count": null,
   "metadata": {},
   "outputs": [],
   "source": [
    "print (\"hello world\")"
   ]
  },
  {
   "cell_type": "code",
   "execution_count": null,
   "metadata": {},
   "outputs": [],
   "source": [
    "print (\"hello world\")"
   ]
  },
  {
   "cell_type": "code",
   "execution_count": null,
   "metadata": {},
   "outputs": [],
   "source": [
    "import sys\n",
    "print (sys.version)"
   ]
  },
  {
   "cell_type": "code",
   "execution_count": 4,
   "metadata": {},
   "outputs": [
    {
     "data": {
      "text/plain": [
       "float"
      ]
     },
     "execution_count": 4,
     "metadata": {},
     "output_type": "execute_result"
    }
   ],
   "source": [
    "type(12.0)\n"
   ]
  },
  {
   "cell_type": "code",
   "execution_count": 10,
   "metadata": {},
   "outputs": [
    {
     "data": {
      "text/plain": [
       "float"
      ]
     },
     "execution_count": 10,
     "metadata": {},
     "output_type": "execute_result"
    }
   ],
   "source": [
    "# type(1)\n",
    "\n",
    "# type('True')\n",
    "\n",
    "# type(False)\n",
    "\n",
    "\n",
    "\n",
    "type(1.1)"
   ]
  },
  {
   "cell_type": "code",
   "execution_count": 14,
   "metadata": {},
   "outputs": [
    {
     "data": {
      "text/plain": [
       "sys.int_info(bits_per_digit=30, sizeof_digit=4, default_max_str_digits=4300, str_digits_check_threshold=640)"
      ]
     },
     "execution_count": 14,
     "metadata": {},
     "output_type": "execute_result"
    }
   ],
   "source": [
    "import sys\n",
    "# sys.float_info\n",
    "# sys.path\n",
    "sys.int_info"
   ]
  },
  {
   "cell_type": "code",
   "execution_count": 23,
   "metadata": {},
   "outputs": [
    {
     "data": {
      "text/plain": [
       "1234.56"
      ]
     },
     "execution_count": 23,
     "metadata": {},
     "output_type": "execute_result"
    }
   ],
   "source": [
    "# type((2))\n",
    "type(float(2))\n",
    "int(1.1)\n",
    "str(1)\n",
    "int(True)\n",
    "bool(1)\n",
    "float(\"1234.56\")"
   ]
  },
  {
   "cell_type": "code",
   "execution_count": 22,
   "metadata": {},
   "outputs": [
    {
     "data": {
      "text/plain": [
       "int"
      ]
     },
     "execution_count": 22,
     "metadata": {},
     "output_type": "execute_result"
    }
   ],
   "source": [
    "type(6/2)\n",
    "type(6//2)"
   ]
  },
  {
   "cell_type": "code",
   "execution_count": 24,
   "metadata": {},
   "outputs": [
    {
     "data": {
      "text/plain": [
       "5.5"
      ]
     },
     "execution_count": 24,
     "metadata": {},
     "output_type": "execute_result"
    }
   ],
   "source": [
    "11/2"
   ]
  },
  {
   "cell_type": "code",
   "execution_count": 26,
   "metadata": {},
   "outputs": [
    {
     "data": {
      "text/plain": [
       "2.0"
      ]
     },
     "execution_count": 26,
     "metadata": {},
     "output_type": "execute_result"
    }
   ],
   "source": [
    "x=4\n",
    "x=x/2\n",
    "x"
   ]
  },
  {
   "cell_type": "code",
   "execution_count": 30,
   "metadata": {},
   "outputs": [
    {
     "data": {
      "text/plain": [
       "29"
      ]
     },
     "execution_count": 30,
     "metadata": {},
     "output_type": "execute_result"
    }
   ],
   "source": [
    "\n",
    "# 2x^2 - 3\n",
    "x=4\n",
    "2*x*x - 3"
   ]
  },
  {
   "cell_type": "markdown",
   "metadata": {},
   "source": [
    "# create line plot"
   ]
  },
  {
   "cell_type": "code",
   "execution_count": null,
   "metadata": {},
   "outputs": [],
   "source": []
  },
  {
   "cell_type": "code",
   "execution_count": 38,
   "metadata": {},
   "outputs": [
    {
     "name": "stdout",
     "output_type": "stream",
     "text": [
      "name is John age is 30\n",
      "name is John age is 30\n",
      "name is John age is 30\n",
      "sum is 30\n",
      "reg string:  C:\n",
      "ew_folder\file.txt\n",
      "reg string:  C:\\new_folder\\file.txt\n",
      "reg string:  C:\\new_folder\\file.txt\n"
     ]
    }
   ],
   "source": [
    "name=\"John\"\n",
    "age=30\n",
    "print(f\"name is {name} age is {age}\")\n",
    "print(\"name is {} age is {}\".format(name, age))\n",
    "print(\"name is %s age is %s\" %(name, age))\n",
    "x=10\n",
    "y=20\n",
    "print(f\"sum is {x+y}\")\n",
    "regular_string = \"C:\\new_folder\\file.txt\"\n",
    "print(\"reg string: \", regular_string)\n",
    "regular_string = \"C:\\\\new_folder\\\\file.txt\"\n",
    "print(\"reg string: \", regular_string)\n",
    "regular_string = r\"C:\\new_folder\\file.txt\"\n",
    "print(\"reg string: \", regular_string)\n",
    "\n",
    "\n"
   ]
  },
  {
   "cell_type": "code",
   "execution_count": 47,
   "metadata": {},
   "outputs": [
    {
     "name": "stdout",
     "output_type": "stream",
     "text": [
      "M\n",
      "l\n",
      "n\n",
      "M\n",
      "15\n"
     ]
    }
   ],
   "source": [
    "name= \"Michael Jackson\"\n",
    "name\n",
    "print(name[0])\n",
    "print(name[6])\n",
    "print(name[-1])\n",
    "print(name[-15])\n",
    "print(len(name))"
   ]
  },
  {
   "cell_type": "code",
   "execution_count": 78,
   "metadata": {},
   "outputs": [
    {
     "name": "stdout",
     "output_type": "stream",
     "text": [
      "Mic\n",
      "Mich\n",
      "Jack\n",
      "McalJcsn\n",
      "Mca\n",
      "e a\n",
      "Michael Jackson is the best\n",
      "Michael JacksonMichael JacksonMichael Jackson\n",
      "Michael Jackson \n",
      " is the best\n",
      "Michael Jackson \t is the best\n",
      "Michael Jackson \\ is the best\n",
      "Michael Jackson \\ is the best\n",
      "Michael Jackson \\ is the best\n",
      "MICHAEL JACKSON\n",
      "Janet Jackson is the best\n",
      "['Michael', 'Jackson']\n"
     ]
    }
   ],
   "source": [
    "name= \"Michael Jackson\"\n",
    "print(name[:3])\n",
    "print(name[0:4])\n",
    "print(name[8:12])\n",
    "print(name[::2])\n",
    "print(name[0:5:2])\n",
    "print(name[5:10:2])\n",
    "\n",
    "statement = name + \" is the best\"\n",
    "\n",
    "print(statement)\n",
    "print(3*name)\n",
    "\n",
    "print (\"Michael Jackson \\n is the best\")\n",
    "print (\"Michael Jackson \\t is the best\")\n",
    "print (\"Michael Jackson \\ is the best\")\n",
    "print (r\"Michael Jackson \\ is the best\")\n",
    "print (\"Michael Jackson \\\\ is the best\")\n",
    "\n",
    "nameUpper = name.upper()\n",
    "print(nameUpper)\n",
    "sb = statement.replace(\"Michael\", \"Janet\")\n",
    "print(sb)\n",
    "\n",
    "name.find('el')\n",
    "\n",
    "split = (name.split())\n",
    "print(split)\n"
   ]
  },
  {
   "cell_type": "code",
   "execution_count": 72,
   "metadata": {},
   "outputs": [
    {
     "name": "stdout",
     "output_type": "stream",
     "text": [
      "<re.Match object; span=(8, 15), match='Jackson'>\n",
      "found\n"
     ]
    }
   ],
   "source": [
    "import re \n",
    "s1 = \"Michael Jackson is the best\"\n",
    "\n",
    "pattern = r\"Jackson\"\n",
    "\n",
    "result = re.search(pattern, s1)\n",
    "\n",
    "print(result)\n",
    "\n",
    "if(result):\n",
    "    print(\"found\")\n",
    "else:\n",
    "    print(\"not found\")\n",
    "    \n",
    "    \n",
    "\n",
    "\n",
    "\n"
   ]
  },
  {
   "cell_type": "markdown",
   "metadata": {},
   "source": [
    "Regular expressions (RegEx) are patterns used to match and manipulate strings of text. There are several special sequences in RegEx that can be used to match specific characters or patterns.\n",
    "\n",
    "Special Sequence\tMeaning\tExample\n",
    "\\d\tMatches any digit character (0-9)\t\"123\" matches \"\\d\\d\\d\"\n",
    "\\D\tMatches any non-digit character\t\"hello\" matches \"\\D\\D\\D\\D\\D\"\n",
    "\\w\tMatches any word character (a-z, A-Z, 0-9, and _)\t\"hello_world\" matches \"\\w\\w\\w\\w\\w\\w\\w\\w\\w\\w\\w\"\n",
    "\\W\tMatches any non-word character\t\"@#$%\" matches \"\\W\\W\\W\\W\"\n",
    "\\s\tMatches any whitespace character (space, tab, newline, etc.)\t\"hello world\" matches \"\\w\\w\\w\\w\\w\\s\\w\\w\\w\\w\\w\"\n",
    "\\S\tMatches any non-whitespace character\t\"hello_world\" matches \"\\S\\S\\S\\S\\S\\S\\S\\S\\S\"\n",
    "\\b\tMatches the boundary between a word character and a non-word character\t\"cat\" matches \"\\bcat\\b\" in \"The cat sat on the mat\"\n",
    "\\B\tMatches any position that is not a word boundary\t\"cat\" matches \"\\Bcat\\B\" in \"category\" but not in \"The cat sat on the mat\""
   ]
  },
  {
   "cell_type": "code",
   "execution_count": 73,
   "metadata": {},
   "outputs": [
    {
     "name": "stdout",
     "output_type": "stream",
     "text": [
      "Phone number found: 1234567890\n"
     ]
    }
   ],
   "source": [
    "pattern = r\"\\d\\d\\d\\d\\d\\d\\d\\d\\d\\d\"  # Matches any ten consecutive digits\n",
    "text = \"My Phone number is 1234567890\"\n",
    "match = re.search(pattern, text)\n",
    "\n",
    "if match:\n",
    "    print(\"Phone number found:\", match.group())\n",
    "else:\n",
    "    print(\"No match\")"
   ]
  },
  {
   "cell_type": "code",
   "execution_count": 74,
   "metadata": {},
   "outputs": [
    {
     "name": "stdout",
     "output_type": "stream",
     "text": [
      "Matches: [',', ' ', '!']\n"
     ]
    }
   ],
   "source": [
    "pattern = r\"\\W\"  # Matches any non-word character\n",
    "text = \"Hello, world!\"\n",
    "matches = re.findall(pattern, text)\n",
    "\n",
    "print(\"Matches:\", matches)"
   ]
  },
  {
   "cell_type": "code",
   "execution_count": 75,
   "metadata": {},
   "outputs": [
    {
     "name": "stdout",
     "output_type": "stream",
     "text": [
      "['as', 'as']\n"
     ]
    }
   ],
   "source": [
    "s2 = \"Michael Jackson was a singer and known as the 'King of Pop'\"\n",
    "\n",
    "\n",
    "# Use the findall() function to find all occurrences of the \"as\" in the string\n",
    "result = re.findall(\"as\", s2)\n",
    "\n",
    "# Print out the list of matched words\n",
    "print(result)\n"
   ]
  },
  {
   "cell_type": "code",
   "execution_count": 76,
   "metadata": {},
   "outputs": [
    {
     "name": "stdout",
     "output_type": "stream",
     "text": [
      "['Michael', 'Jackson', 'was', 'a', 'singer', 'and', 'known', 'as', 'the', \"'King\", 'of', \"Pop'\"]\n"
     ]
    }
   ],
   "source": [
    "# Use the split function to split the string by the \"\\s\"\n",
    "split_array = re.split(\"\\s\", s2)\n",
    "\n",
    "# The split_array contains all the substrings, split by whitespace characters\n",
    "print(split_array) "
   ]
  },
  {
   "cell_type": "code",
   "execution_count": 77,
   "metadata": {},
   "outputs": [
    {
     "name": "stdout",
     "output_type": "stream",
     "text": [
      "Michael Jackson was a singer and known as the 'legend'\n"
     ]
    }
   ],
   "source": [
    "# Define the regular expression pattern to search for\n",
    "pattern = r\"King of Pop\"\n",
    "\n",
    "# Define the replacement string\n",
    "replacement = \"legend\"\n",
    "\n",
    "# Use the sub function to replace the pattern with the replacement string\n",
    "new_string = re.sub(pattern, replacement, s2, flags=re.IGNORECASE)\n",
    "\n",
    "# The new_string contains the original string with the pattern replaced by the replacement string\n",
    "print(new_string) "
   ]
  },
  {
   "cell_type": "code",
   "execution_count": 79,
   "metadata": {},
   "outputs": [
    {
     "name": "stdout",
     "output_type": "stream",
     "text": [
      "Digit found\n"
     ]
    }
   ],
   "source": [
    "s3 = \"House number- 1105\"\n",
    "# Use the search() function to search for the \"\\d\" in the string\n",
    "result = re.search(\"\\d\", s3)\n",
    "\n",
    "# Check if a match was found\n",
    "if result:\n",
    "    print(\"Digit found\")\n",
    "else:\n",
    "    print(\"Digit not found.\")\n"
   ]
  },
  {
   "cell_type": "code",
   "execution_count": 80,
   "metadata": {},
   "outputs": [
    {
     "name": "stdout",
     "output_type": "stream",
     "text": [
      "The quick brown bear jumps over the lazy dog.\n"
     ]
    }
   ],
   "source": [
    "str1= \"The quick brown fox jumps over the lazy dog.\"\n",
    "# Use re.sub() to replace \"fox\" with \"bear\"\n",
    "new_str1 = re.sub(r\"fox\", \"bear\", str1)\n",
    "\n",
    "print(new_str1)"
   ]
  },
  {
   "cell_type": "code",
   "execution_count": 81,
   "metadata": {},
   "outputs": [
    {
     "name": "stdout",
     "output_type": "stream",
     "text": [
      "['woo', 'woo', 'woo', 'woo']\n"
     ]
    }
   ],
   "source": [
    "str2= \"How much wood would a woodchuck chuck, if a woodchuck could chuck wood?\"\n",
    "# Use re.findall() to find all occurrences of \"woo\"\n",
    "matches = re.findall(r\"woo\", str2)\n",
    "\n",
    "print(matches)"
   ]
  },
  {
   "cell_type": "code",
   "execution_count": 82,
   "metadata": {},
   "outputs": [
    {
     "data": {
      "text/plain": [
       "5"
      ]
     },
     "execution_count": 82,
     "metadata": {},
     "output_type": "execute_result"
    }
   ],
   "source": [
    "\"helloMike\".find(\"Mike\")"
   ]
  },
  {
   "cell_type": "code",
   "execution_count": null,
   "metadata": {},
   "outputs": [],
   "source": []
  },
  {
   "cell_type": "code",
   "execution_count": null,
   "metadata": {},
   "outputs": [],
   "source": []
  },
  {
   "cell_type": "code",
   "execution_count": null,
   "metadata": {},
   "outputs": [],
   "source": []
  },
  {
   "cell_type": "code",
   "execution_count": null,
   "metadata": {},
   "outputs": [],
   "source": []
  },
  {
   "cell_type": "code",
   "execution_count": null,
   "metadata": {},
   "outputs": [],
   "source": []
  },
  {
   "cell_type": "code",
   "execution_count": null,
   "metadata": {},
   "outputs": [],
   "source": []
  },
  {
   "cell_type": "code",
   "execution_count": null,
   "metadata": {},
   "outputs": [],
   "source": []
  },
  {
   "cell_type": "code",
   "execution_count": null,
   "metadata": {},
   "outputs": [],
   "source": []
  },
  {
   "cell_type": "code",
   "execution_count": null,
   "metadata": {},
   "outputs": [],
   "source": []
  },
  {
   "cell_type": "markdown",
   "metadata": {},
   "source": [
    "a "
   ]
  }
 ],
 "metadata": {
  "kernelspec": {
   "display_name": "env3.8_1",
   "language": "python",
   "name": "python3"
  },
  "language_info": {
   "codemirror_mode": {
    "name": "ipython",
    "version": 3
   },
   "file_extension": ".py",
   "mimetype": "text/x-python",
   "name": "python",
   "nbconvert_exporter": "python",
   "pygments_lexer": "ipython3",
   "version": "3.8.19"
  }
 },
 "nbformat": 4,
 "nbformat_minor": 2
}
